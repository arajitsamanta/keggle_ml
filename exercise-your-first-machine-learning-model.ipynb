{
 "cells": [
  {
   "cell_type": "markdown",
   "id": "f9cf83b3",
   "metadata": {
    "papermill": {
     "duration": 0.006219,
     "end_time": "2023-03-31T20:13:01.046275",
     "exception": false,
     "start_time": "2023-03-31T20:13:01.040056",
     "status": "completed"
    },
    "tags": []
   },
   "source": [
    "**This notebook is an exercise in the [Introduction to Machine Learning](https://www.kaggle.com/learn/intro-to-machine-learning) course.  You can reference the tutorial at [this link](https://www.kaggle.com/dansbecker/your-first-machine-learning-model).**\n",
    "\n",
    "---\n"
   ]
  },
  {
   "cell_type": "markdown",
   "id": "58f4b641",
   "metadata": {
    "papermill": {
     "duration": 0.004743,
     "end_time": "2023-03-31T20:13:01.056283",
     "exception": false,
     "start_time": "2023-03-31T20:13:01.051540",
     "status": "completed"
    },
    "tags": []
   },
   "source": [
    "## Recap\n",
    "So far, you have loaded your data and reviewed it with the following code. Run this cell to set up your coding environment where the previous step left off."
   ]
  },
  {
   "cell_type": "code",
   "execution_count": 1,
   "id": "6b18609d",
   "metadata": {
    "execution": {
     "iopub.execute_input": "2023-03-31T20:13:01.069894Z",
     "iopub.status.busy": "2023-03-31T20:13:01.068668Z",
     "iopub.status.idle": "2023-03-31T20:13:02.494390Z",
     "shell.execute_reply": "2023-03-31T20:13:02.492566Z"
    },
    "papermill": {
     "duration": 1.436097,
     "end_time": "2023-03-31T20:13:02.497831",
     "exception": false,
     "start_time": "2023-03-31T20:13:01.061734",
     "status": "completed"
    },
    "tags": []
   },
   "outputs": [
    {
     "name": "stdout",
     "output_type": "stream",
     "text": [
      "Setup Complete\n"
     ]
    }
   ],
   "source": [
    "# Code you have previously used to load data\n",
    "import pandas as pd\n",
    "\n",
    "# Path of the file to read\n",
    "iowa_file_path = '../input/home-data-for-ml-course/train.csv'\n",
    "\n",
    "home_data = pd.read_csv(iowa_file_path)\n",
    "\n",
    "# Set up code checking\n",
    "from learntools.core import binder\n",
    "binder.bind(globals())\n",
    "from learntools.machine_learning.ex3 import *\n",
    "\n",
    "print(\"Setup Complete\")"
   ]
  },
  {
   "cell_type": "markdown",
   "id": "6e58526c",
   "metadata": {
    "papermill": {
     "duration": 0.005138,
     "end_time": "2023-03-31T20:13:02.508531",
     "exception": false,
     "start_time": "2023-03-31T20:13:02.503393",
     "status": "completed"
    },
    "tags": []
   },
   "source": [
    "# Exercises\n",
    "\n",
    "## Step 1: Specify Prediction Target\n",
    "Select the target variable, which corresponds to the sales price. Save this to a new variable called `y`. You'll need to print a list of the columns to find the name of the column you need.\n"
   ]
  },
  {
   "cell_type": "code",
   "execution_count": 2,
   "id": "c9117b91",
   "metadata": {
    "collapsed": true,
    "execution": {
     "iopub.execute_input": "2023-03-31T20:13:02.522215Z",
     "iopub.status.busy": "2023-03-31T20:13:02.520563Z",
     "iopub.status.idle": "2023-03-31T20:13:02.526408Z",
     "shell.execute_reply": "2023-03-31T20:13:02.525235Z"
    },
    "jupyter": {
     "outputs_hidden": true
    },
    "papermill": {
     "duration": 0.015215,
     "end_time": "2023-03-31T20:13:02.528959",
     "exception": false,
     "start_time": "2023-03-31T20:13:02.513744",
     "status": "completed"
    },
    "tags": []
   },
   "outputs": [],
   "source": [
    "# print the list of columns in the dataset to find the name of the prediction target\n"
   ]
  },
  {
   "cell_type": "code",
   "execution_count": 3,
   "id": "9ce3e231",
   "metadata": {
    "execution": {
     "iopub.execute_input": "2023-03-31T20:13:02.542467Z",
     "iopub.status.busy": "2023-03-31T20:13:02.541687Z",
     "iopub.status.idle": "2023-03-31T20:13:02.555896Z",
     "shell.execute_reply": "2023-03-31T20:13:02.555063Z"
    },
    "papermill": {
     "duration": 0.023829,
     "end_time": "2023-03-31T20:13:02.558228",
     "exception": false,
     "start_time": "2023-03-31T20:13:02.534399",
     "status": "completed"
    },
    "tags": []
   },
   "outputs": [
    {
     "data": {
      "application/javascript": [
       "parent.postMessage({\"jupyterEvent\": \"custom.exercise_interaction\", \"data\": {\"outcomeType\": 1, \"valueTowardsCompletion\": 0.25, \"interactionType\": 1, \"questionType\": 2, \"questionId\": \"1_SetTarget\", \"learnToolsVersion\": \"0.3.4\", \"failureMessage\": \"\", \"exceptionClass\": \"\", \"trace\": \"\"}}, \"*\")"
      ],
      "text/plain": [
       "<IPython.core.display.Javascript object>"
      ]
     },
     "metadata": {},
     "output_type": "display_data"
    },
    {
     "data": {
      "text/markdown": [
       "<span style=\"color:#33cc33\">Correct</span>"
      ],
      "text/plain": [
       "Correct"
      ]
     },
     "metadata": {},
     "output_type": "display_data"
    }
   ],
   "source": [
    "#print(home_data.columns)\n",
    "y = home_data.SalePrice\n",
    "\n",
    "# Check your answer\n",
    "step_1.check()"
   ]
  },
  {
   "cell_type": "code",
   "execution_count": 4,
   "id": "1084fb32",
   "metadata": {
    "collapsed": true,
    "execution": {
     "iopub.execute_input": "2023-03-31T20:13:02.571318Z",
     "iopub.status.busy": "2023-03-31T20:13:02.570865Z",
     "iopub.status.idle": "2023-03-31T20:13:02.575978Z",
     "shell.execute_reply": "2023-03-31T20:13:02.574754Z"
    },
    "jupyter": {
     "outputs_hidden": true
    },
    "papermill": {
     "duration": 0.014832,
     "end_time": "2023-03-31T20:13:02.578549",
     "exception": false,
     "start_time": "2023-03-31T20:13:02.563717",
     "status": "completed"
    },
    "tags": []
   },
   "outputs": [],
   "source": [
    "# The lines below will show you a hint or the solution.\n",
    "# step_1.hint() \n",
    "# step_1.solution()"
   ]
  },
  {
   "cell_type": "markdown",
   "id": "13483345",
   "metadata": {
    "papermill": {
     "duration": 0.005796,
     "end_time": "2023-03-31T20:13:02.590516",
     "exception": false,
     "start_time": "2023-03-31T20:13:02.584720",
     "status": "completed"
    },
    "tags": []
   },
   "source": [
    "## Step 2: Create X\n",
    "Now you will create a DataFrame called `X` holding the predictive features.\n",
    "\n",
    "Since you want only some columns from the original data, you'll first create a list with the names of the columns you want in `X`.\n",
    "\n",
    "You'll use just the following columns in the list (you can copy and paste the whole list to save some typing, though you'll still need to add quotes):\n",
    "  * LotArea\n",
    "  * YearBuilt\n",
    "  * 1stFlrSF\n",
    "  * 2ndFlrSF\n",
    "  * FullBath\n",
    "  * BedroomAbvGr\n",
    "  * TotRmsAbvGrd\n",
    "\n",
    "After you've created that list of features, use it to create the DataFrame that you'll use to fit the model."
   ]
  },
  {
   "cell_type": "code",
   "execution_count": 5,
   "id": "151eeb1b",
   "metadata": {
    "execution": {
     "iopub.execute_input": "2023-03-31T20:13:02.604046Z",
     "iopub.status.busy": "2023-03-31T20:13:02.603628Z",
     "iopub.status.idle": "2023-03-31T20:13:02.615954Z",
     "shell.execute_reply": "2023-03-31T20:13:02.615149Z"
    },
    "papermill": {
     "duration": 0.021871,
     "end_time": "2023-03-31T20:13:02.618179",
     "exception": false,
     "start_time": "2023-03-31T20:13:02.596308",
     "status": "completed"
    },
    "tags": []
   },
   "outputs": [
    {
     "data": {
      "application/javascript": [
       "parent.postMessage({\"jupyterEvent\": \"custom.exercise_interaction\", \"data\": {\"outcomeType\": 1, \"valueTowardsCompletion\": 0.25, \"interactionType\": 1, \"questionType\": 2, \"questionId\": \"2_SelectPredictionData\", \"learnToolsVersion\": \"0.3.4\", \"failureMessage\": \"\", \"exceptionClass\": \"\", \"trace\": \"\"}}, \"*\")"
      ],
      "text/plain": [
       "<IPython.core.display.Javascript object>"
      ]
     },
     "metadata": {},
     "output_type": "display_data"
    },
    {
     "data": {
      "text/markdown": [
       "<span style=\"color:#33cc33\">Correct</span>"
      ],
      "text/plain": [
       "Correct"
      ]
     },
     "metadata": {},
     "output_type": "display_data"
    }
   ],
   "source": [
    "# Create the list of features below\n",
    "feature_names = ['LotArea', 'YearBuilt', '1stFlrSF', '2ndFlrSF', 'FullBath','BedroomAbvGr','TotRmsAbvGrd']\n",
    "\n",
    "# Select data corresponding to features in feature_names\n",
    "X = home_data[feature_names]\n",
    "\n",
    "# Check your answer\n",
    "step_2.check()"
   ]
  },
  {
   "cell_type": "code",
   "execution_count": 6,
   "id": "bb2848d0",
   "metadata": {
    "collapsed": true,
    "execution": {
     "iopub.execute_input": "2023-03-31T20:13:02.632631Z",
     "iopub.status.busy": "2023-03-31T20:13:02.631555Z",
     "iopub.status.idle": "2023-03-31T20:13:02.636619Z",
     "shell.execute_reply": "2023-03-31T20:13:02.635494Z"
    },
    "jupyter": {
     "outputs_hidden": true
    },
    "papermill": {
     "duration": 0.015189,
     "end_time": "2023-03-31T20:13:02.639178",
     "exception": false,
     "start_time": "2023-03-31T20:13:02.623989",
     "status": "completed"
    },
    "tags": []
   },
   "outputs": [],
   "source": [
    "# step_2.hint()\n",
    "# step_2.solution()"
   ]
  },
  {
   "cell_type": "markdown",
   "id": "a8ca2a9c",
   "metadata": {
    "papermill": {
     "duration": 0.005738,
     "end_time": "2023-03-31T20:13:02.651074",
     "exception": false,
     "start_time": "2023-03-31T20:13:02.645336",
     "status": "completed"
    },
    "tags": []
   },
   "source": [
    "## Review Data\n",
    "Before building a model, take a quick look at **X** to verify it looks sensible"
   ]
  },
  {
   "cell_type": "code",
   "execution_count": 7,
   "id": "3dc1aa42",
   "metadata": {
    "execution": {
     "iopub.execute_input": "2023-03-31T20:13:02.664552Z",
     "iopub.status.busy": "2023-03-31T20:13:02.664108Z",
     "iopub.status.idle": "2023-03-31T20:13:02.705534Z",
     "shell.execute_reply": "2023-03-31T20:13:02.703767Z"
    },
    "papermill": {
     "duration": 0.052262,
     "end_time": "2023-03-31T20:13:02.709090",
     "exception": false,
     "start_time": "2023-03-31T20:13:02.656828",
     "status": "completed"
    },
    "tags": []
   },
   "outputs": [
    {
     "name": "stdout",
     "output_type": "stream",
     "text": [
      "             LotArea    YearBuilt     1stFlrSF     2ndFlrSF     FullBath  \\\n",
      "count    1460.000000  1460.000000  1460.000000  1460.000000  1460.000000   \n",
      "mean    10516.828082  1971.267808  1162.626712   346.992466     1.565068   \n",
      "std      9981.264932    30.202904   386.587738   436.528436     0.550916   \n",
      "min      1300.000000  1872.000000   334.000000     0.000000     0.000000   \n",
      "25%      7553.500000  1954.000000   882.000000     0.000000     1.000000   \n",
      "50%      9478.500000  1973.000000  1087.000000     0.000000     2.000000   \n",
      "75%     11601.500000  2000.000000  1391.250000   728.000000     2.000000   \n",
      "max    215245.000000  2010.000000  4692.000000  2065.000000     3.000000   \n",
      "\n",
      "       BedroomAbvGr  TotRmsAbvGrd  \n",
      "count   1460.000000   1460.000000  \n",
      "mean       2.866438      6.517808  \n",
      "std        0.815778      1.625393  \n",
      "min        0.000000      2.000000  \n",
      "25%        2.000000      5.000000  \n",
      "50%        3.000000      6.000000  \n",
      "75%        3.000000      7.000000  \n",
      "max        8.000000     14.000000  \n"
     ]
    }
   ],
   "source": [
    "# Review data\n",
    "# print description or statistics from X\n",
    "print(X.describe())\n",
    "\n",
    "# print the top few lines\n",
    "#print(_)"
   ]
  },
  {
   "cell_type": "markdown",
   "id": "7018e468",
   "metadata": {
    "papermill": {
     "duration": 0.006281,
     "end_time": "2023-03-31T20:13:02.723897",
     "exception": false,
     "start_time": "2023-03-31T20:13:02.717616",
     "status": "completed"
    },
    "tags": []
   },
   "source": [
    "## Step 3: Specify and Fit Model\n",
    "Create a `DecisionTreeRegressor` and save it iowa_model. Ensure you've done the relevant import from sklearn to run this command.\n",
    "\n",
    "Then fit the model you just created using the data in `X` and `y` that you saved above."
   ]
  },
  {
   "cell_type": "code",
   "execution_count": 8,
   "id": "932c8414",
   "metadata": {
    "execution": {
     "iopub.execute_input": "2023-03-31T20:13:02.739013Z",
     "iopub.status.busy": "2023-03-31T20:13:02.738553Z",
     "iopub.status.idle": "2023-03-31T20:13:02.761477Z",
     "shell.execute_reply": "2023-03-31T20:13:02.760070Z"
    },
    "papermill": {
     "duration": 0.033537,
     "end_time": "2023-03-31T20:13:02.763966",
     "exception": false,
     "start_time": "2023-03-31T20:13:02.730429",
     "status": "completed"
    },
    "tags": []
   },
   "outputs": [
    {
     "data": {
      "application/javascript": [
       "parent.postMessage({\"jupyterEvent\": \"custom.exercise_interaction\", \"data\": {\"outcomeType\": 1, \"valueTowardsCompletion\": 0.25, \"interactionType\": 1, \"questionType\": 2, \"questionId\": \"3_CreateModel\", \"learnToolsVersion\": \"0.3.4\", \"failureMessage\": \"\", \"exceptionClass\": \"\", \"trace\": \"\"}}, \"*\")"
      ],
      "text/plain": [
       "<IPython.core.display.Javascript object>"
      ]
     },
     "metadata": {},
     "output_type": "display_data"
    },
    {
     "data": {
      "text/markdown": [
       "<span style=\"color:#33cc33\">Correct</span>"
      ],
      "text/plain": [
       "Correct"
      ]
     },
     "metadata": {},
     "output_type": "display_data"
    }
   ],
   "source": [
    "from sklearn.tree import DecisionTreeRegressor\n",
    "\n",
    "#specify the model. \n",
    "#For model reproducibility, set a numeric value for random_state when specifying the model\n",
    "iowa_model = DecisionTreeRegressor(random_state=1)\n",
    "\n",
    "# Fit the model\n",
    "iowa_model.fit(X,y)\n",
    "\n",
    "# Check your answer\n",
    "step_3.check()"
   ]
  },
  {
   "cell_type": "code",
   "execution_count": 9,
   "id": "9960ac04",
   "metadata": {
    "collapsed": true,
    "execution": {
     "iopub.execute_input": "2023-03-31T20:13:02.778867Z",
     "iopub.status.busy": "2023-03-31T20:13:02.778341Z",
     "iopub.status.idle": "2023-03-31T20:13:02.784300Z",
     "shell.execute_reply": "2023-03-31T20:13:02.782961Z"
    },
    "jupyter": {
     "outputs_hidden": true
    },
    "papermill": {
     "duration": 0.016605,
     "end_time": "2023-03-31T20:13:02.786846",
     "exception": false,
     "start_time": "2023-03-31T20:13:02.770241",
     "status": "completed"
    },
    "tags": []
   },
   "outputs": [],
   "source": [
    "# step_3.hint()\n",
    "# step_3.solution()"
   ]
  },
  {
   "cell_type": "markdown",
   "id": "aaa8dfc5",
   "metadata": {
    "papermill": {
     "duration": 0.006039,
     "end_time": "2023-03-31T20:13:02.799089",
     "exception": false,
     "start_time": "2023-03-31T20:13:02.793050",
     "status": "completed"
    },
    "tags": []
   },
   "source": [
    "## Step 4: Make Predictions\n",
    "Make predictions with the model's `predict` command using `X` as the data. Save the results to a variable called `predictions`."
   ]
  },
  {
   "cell_type": "code",
   "execution_count": 10,
   "id": "02763e82",
   "metadata": {
    "execution": {
     "iopub.execute_input": "2023-03-31T20:13:02.815549Z",
     "iopub.status.busy": "2023-03-31T20:13:02.813944Z",
     "iopub.status.idle": "2023-03-31T20:13:02.831535Z",
     "shell.execute_reply": "2023-03-31T20:13:02.829909Z"
    },
    "papermill": {
     "duration": 0.028202,
     "end_time": "2023-03-31T20:13:02.833753",
     "exception": false,
     "start_time": "2023-03-31T20:13:02.805551",
     "status": "completed"
    },
    "tags": []
   },
   "outputs": [
    {
     "name": "stdout",
     "output_type": "stream",
     "text": [
      "[208500. 181500. 223500. ... 266500. 142125. 147500.]\n"
     ]
    },
    {
     "data": {
      "application/javascript": [
       "parent.postMessage({\"jupyterEvent\": \"custom.exercise_interaction\", \"data\": {\"outcomeType\": 1, \"valueTowardsCompletion\": 0.25, \"interactionType\": 1, \"questionType\": 2, \"questionId\": \"4_MakePredictions\", \"learnToolsVersion\": \"0.3.4\", \"failureMessage\": \"\", \"exceptionClass\": \"\", \"trace\": \"\"}}, \"*\")"
      ],
      "text/plain": [
       "<IPython.core.display.Javascript object>"
      ]
     },
     "metadata": {},
     "output_type": "display_data"
    },
    {
     "data": {
      "text/markdown": [
       "<span style=\"color:#33cc33\">Correct</span>"
      ],
      "text/plain": [
       "Correct"
      ]
     },
     "metadata": {},
     "output_type": "display_data"
    }
   ],
   "source": [
    "predictions = iowa_model.predict(X)\n",
    "print(predictions)\n",
    "\n",
    "# Check your answer\n",
    "step_4.check()"
   ]
  },
  {
   "cell_type": "code",
   "execution_count": 11,
   "id": "41301206",
   "metadata": {
    "execution": {
     "iopub.execute_input": "2023-03-31T20:13:02.848993Z",
     "iopub.status.busy": "2023-03-31T20:13:02.848539Z",
     "iopub.status.idle": "2023-03-31T20:13:02.864649Z",
     "shell.execute_reply": "2023-03-31T20:13:02.863218Z"
    },
    "papermill": {
     "duration": 0.026737,
     "end_time": "2023-03-31T20:13:02.866999",
     "exception": false,
     "start_time": "2023-03-31T20:13:02.840262",
     "status": "completed"
    },
    "tags": []
   },
   "outputs": [
    {
     "data": {
      "application/javascript": [
       "parent.postMessage({\"jupyterEvent\": \"custom.exercise_interaction\", \"data\": {\"interactionType\": 2, \"questionType\": 2, \"questionId\": \"4_MakePredictions\", \"learnToolsVersion\": \"0.3.4\", \"valueTowardsCompletion\": 0.0, \"failureMessage\": \"\", \"exceptionClass\": \"\", \"trace\": \"\", \"outcomeType\": 4}}, \"*\")"
      ],
      "text/plain": [
       "<IPython.core.display.Javascript object>"
      ]
     },
     "metadata": {},
     "output_type": "display_data"
    },
    {
     "data": {
      "text/markdown": [
       "<span style=\"color:#3366cc\">Hint:</span> Use `iowa_model.predict` with an argument holding the data to predict with."
      ],
      "text/plain": [
       "Hint: Use `iowa_model.predict` with an argument holding the data to predict with."
      ]
     },
     "metadata": {},
     "output_type": "display_data"
    },
    {
     "data": {
      "application/javascript": [
       "parent.postMessage({\"jupyterEvent\": \"custom.exercise_interaction\", \"data\": {\"interactionType\": 3, \"questionType\": 2, \"questionId\": \"4_MakePredictions\", \"learnToolsVersion\": \"0.3.4\", \"valueTowardsCompletion\": 0.0, \"failureMessage\": \"\", \"exceptionClass\": \"\", \"trace\": \"\", \"outcomeType\": 4}}, \"*\")"
      ],
      "text/plain": [
       "<IPython.core.display.Javascript object>"
      ]
     },
     "metadata": {},
     "output_type": "display_data"
    },
    {
     "data": {
      "text/markdown": [
       "<span style=\"color:#33cc99\">Solution:</span> \n",
       "```python\n",
       "iowa_model.predict(X)\n",
       "```"
      ],
      "text/plain": [
       "Solution: \n",
       "```python\n",
       "iowa_model.predict(X)\n",
       "```"
      ]
     },
     "metadata": {},
     "output_type": "display_data"
    }
   ],
   "source": [
    " step_4.hint()\n",
    " step_4.solution()"
   ]
  },
  {
   "cell_type": "markdown",
   "id": "cf5b5ebc",
   "metadata": {
    "papermill": {
     "duration": 0.007639,
     "end_time": "2023-03-31T20:13:02.882299",
     "exception": false,
     "start_time": "2023-03-31T20:13:02.874660",
     "status": "completed"
    },
    "tags": []
   },
   "source": [
    "## Think About Your Results\n",
    "\n",
    "Use the `head` method to compare the top few predictions to the actual home values (in `y`) for those same homes. Anything surprising?\n"
   ]
  },
  {
   "cell_type": "code",
   "execution_count": 12,
   "id": "12d4dc8d",
   "metadata": {
    "execution": {
     "iopub.execute_input": "2023-03-31T20:13:02.899671Z",
     "iopub.status.busy": "2023-03-31T20:13:02.899221Z",
     "iopub.status.idle": "2023-03-31T20:13:02.910562Z",
     "shell.execute_reply": "2023-03-31T20:13:02.909093Z"
    },
    "papermill": {
     "duration": 0.023657,
     "end_time": "2023-03-31T20:13:02.913737",
     "exception": false,
     "start_time": "2023-03-31T20:13:02.890080",
     "status": "completed"
    },
    "tags": []
   },
   "outputs": [
    {
     "name": "stdout",
     "output_type": "stream",
     "text": [
      "<bound method NDFrame.head of       LotArea  YearBuilt  1stFlrSF  2ndFlrSF  FullBath  BedroomAbvGr  \\\n",
      "0        8450       2003       856       854         2             3   \n",
      "1        9600       1976      1262         0         2             3   \n",
      "2       11250       2001       920       866         2             3   \n",
      "3        9550       1915       961       756         1             3   \n",
      "4       14260       2000      1145      1053         2             4   \n",
      "...       ...        ...       ...       ...       ...           ...   \n",
      "1455     7917       1999       953       694         2             3   \n",
      "1456    13175       1978      2073         0         2             3   \n",
      "1457     9042       1941      1188      1152         2             4   \n",
      "1458     9717       1950      1078         0         1             2   \n",
      "1459     9937       1965      1256         0         1             3   \n",
      "\n",
      "      TotRmsAbvGrd  \n",
      "0                8  \n",
      "1                6  \n",
      "2                6  \n",
      "3                7  \n",
      "4                9  \n",
      "...            ...  \n",
      "1455             7  \n",
      "1456             7  \n",
      "1457             9  \n",
      "1458             5  \n",
      "1459             6  \n",
      "\n",
      "[1460 rows x 7 columns]>\n"
     ]
    }
   ],
   "source": [
    "# You can write code in this cell\n",
    "print(X.head)\n"
   ]
  },
  {
   "cell_type": "markdown",
   "id": "18328306",
   "metadata": {
    "papermill": {
     "duration": 0.006989,
     "end_time": "2023-03-31T20:13:02.929142",
     "exception": false,
     "start_time": "2023-03-31T20:13:02.922153",
     "status": "completed"
    },
    "tags": []
   },
   "source": [
    "It's natural to ask how accurate the model's predictions will be and how you can improve that. That will be you're next step.\n",
    "\n",
    "# Keep Going\n",
    "\n",
    "You are ready for **[Model Validation](https://www.kaggle.com/dansbecker/model-validation).**\n"
   ]
  },
  {
   "cell_type": "markdown",
   "id": "92ac74cd",
   "metadata": {
    "papermill": {
     "duration": 0.006907,
     "end_time": "2023-03-31T20:13:02.943507",
     "exception": false,
     "start_time": "2023-03-31T20:13:02.936600",
     "status": "completed"
    },
    "tags": []
   },
   "source": [
    "---\n",
    "\n",
    "\n",
    "\n",
    "\n",
    "*Have questions or comments? Visit the [course discussion forum](https://www.kaggle.com/learn/intro-to-machine-learning/discussion) to chat with other learners.*"
   ]
  }
 ],
 "metadata": {
  "kernelspec": {
   "display_name": "Python 3",
   "language": "python",
   "name": "python3"
  },
  "language_info": {
   "codemirror_mode": {
    "name": "ipython",
    "version": 3
   },
   "file_extension": ".py",
   "mimetype": "text/x-python",
   "name": "python",
   "nbconvert_exporter": "python",
   "pygments_lexer": "ipython3",
   "version": "3.7.12"
  },
  "papermill": {
   "default_parameters": {},
   "duration": 13.310934,
   "end_time": "2023-03-31T20:13:03.876068",
   "environment_variables": {},
   "exception": null,
   "input_path": "__notebook__.ipynb",
   "output_path": "__notebook__.ipynb",
   "parameters": {},
   "start_time": "2023-03-31T20:12:50.565134",
   "version": "2.4.0"
  }
 },
 "nbformat": 4,
 "nbformat_minor": 5
}
